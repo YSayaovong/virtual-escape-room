{
  "nbformat": 4,
  "nbformat_minor": 0,
  "metadata": {
    "colab": {
      "provenance": []
    },
    "kernelspec": {
      "name": "python3",
      "display_name": "Python 3"
    },
    "language_info": {
      "name": "python"
    }
  },
  "cells": [
    {
      "cell_type": "code",
      "execution_count": 1,
      "metadata": {
        "id": "hQP3DnOVRBZr"
      },
      "outputs": [],
      "source": [
        "# Dictionary containing questions and answers for different types of puzzles\n",
        "puzzles = [\n",
        "    {\n",
        "        'type': 'riddle',\n",
        "        'question': 'What has keys but can\\'t open locks?',\n",
        "        'solution': 'piano',\n",
        "        'story': 'You find a hidden key inside the piano that opens a secret door.'\n",
        "    },\n",
        "    {\n",
        "        'type': 'code',\n",
        "        'question': 'Decrypt this message: \"Wklv phvvdjh lv hqfubswhg xvlqj Fdhvdu flskhu.\"',\n",
        "        'solution': 'This message is encrypted using Caesar cipher',\n",
        "        'story': 'The decrypted message reveals a clue about a hidden safe in Mr. White\\'s office.'\n",
        "    },\n",
        "    {\n",
        "        'type': 'pattern',\n",
        "        'question': 'What comes next in the sequence? 2, 4, 8, 16, ...',\n",
        "        'solution': '32',\n",
        "        'story': 'Entering the correct number into a keypad unlocks a mysterious box containing a crucial piece of evidence.'\n",
        "    },\n",
        "    {\n",
        "        'type': 'riddle',\n",
        "        'question': 'What has a head, a tail, but does not have a body?',\n",
        "        'solution': 'coin',\n",
        "        'story': 'You find an old coin which reveals the year when the mansion was built.'\n",
        "    },\n",
        "    {\n",
        "        'type': 'code',\n",
        "        'question': 'Decrypt this message using the reversed alphabet: \"Gsv xzhrmt yvhg zm gsv xlnnkzmzoob.\"',\n",
        "        'solution': 'The secret lies at the mysterious door',\n",
        "        'story': 'A mysterious door is discovered, leading to a hidden room.'\n",
        "    },\n",
        "    {\n",
        "        'type': 'pattern',\n",
        "        'question': 'What comes next in the sequence? 1, 1, 2, 3, 5, ...',\n",
        "        'solution': '8',\n",
        "        'story': 'The correct number reveals the number of steps to take in a secret passage.'\n",
        "    },\n",
        "    {\n",
        "        'type': 'riddle',\n",
        "        'question': 'What is always in front of you but can’t be seen?',\n",
        "        'solution': 'future',\n",
        "        'story': 'A painting of Mr. White reveals a hidden message about his plans.'\n",
        "    },\n",
        "    {\n",
        "        'type': 'code',\n",
        "        'question': 'Decode this Morse code: \".- / --. .... --- ... -\"',\n",
        "        'solution': 'A ghost',\n",
        "        'story': 'A hidden diary tells a story about a ghost haunting the mansion.'\n",
        "    },\n",
        "    {\n",
        "        'type': 'pattern',\n",
        "        'question': 'What comes next in the sequence? 3, 6, 12, 24, ...',\n",
        "        'solution': '48',\n",
        "        'story': 'Entering the correct number into a lock reveals a hidden chamber.'\n",
        "    },\n",
        "    {\n",
        "        'type': 'riddle',\n",
        "        'question': 'What can you hold in your left hand but not in your right?',\n",
        "        'solution': 'your right elbow',\n",
        "        'story': 'Discovering a hidden lever shaped like an elbow, you open a secret compartment.'\n",
        "    }\n",
        "]"
      ]
    },
    {
      "cell_type": "code",
      "source": [
        "# Function to greet the player\n",
        "def welcome():\n",
        "  print(\"Welcome to the Story-driven Virtual Escape Room!\")\n",
        "  print(\"You are a detective trying to solve a mysterious disappearance.\")\n",
        "  print(\"A wealthy businessman, Mr. White, has vanished from his mansion.\")\n",
        "  print(\"Explore the mansion, discover hidden clues, and solve puzzles to unravel the mystery and find Mr. White.\")\n",
        "  print(\"You have a limited time to complete all puzzles. Good luck!\\n\")"
      ],
      "metadata": {
        "id": "yFrJnAn5Zo3F"
      },
      "execution_count": 2,
      "outputs": []
    },
    {
      "cell_type": "code",
      "source": [
        "# Import libraries\n",
        "import time\n",
        "import random"
      ],
      "metadata": {
        "id": "V5M3DSRK7Er1"
      },
      "execution_count": 3,
      "outputs": []
    },
    {
      "cell_type": "code",
      "source": [
        "# Function to check if the player's solution is correct or not\n",
        "# and penalize the time if it's wrong\n",
        "def play_puzzle(puzzle, time_limit):\n",
        "  is_correct = False\n",
        "  while not is_correct:\n",
        "    # Display the puzzle question\n",
        "    print(puzzle['question'])\n",
        "\n",
        "    # Get the user's answer\n",
        "    user_solution = input(\"Please share your solution: \")\n",
        "\n",
        "    # Check if the solution is correct\n",
        "    is_correct = puzzle['solution'].lower() == user_solution.lower()\n",
        "\n",
        "    # Output result and adjust time limit\n",
        "    if is_correct:\n",
        "      print(\"Correct!\")\n",
        "      print(f\"Story: {puzzle['story']} \\n\")\n",
        "    else:\n",
        "      print(f\"Incorrect! Please try again\")\n",
        "      time_limit -= 50\n",
        "\n",
        "  return time_limit"
      ],
      "metadata": {
        "id": "B4Ng-jG2--Fh"
      },
      "execution_count": 4,
      "outputs": []
    },
    {
      "cell_type": "code",
      "source": [
        "# Function to start the escape room game\n",
        "def play_escape_room(time_limit):\n",
        "  # Start the timer\n",
        "  start_time = time.time()\n",
        "\n",
        "  # Display welcome message\n",
        "  welcome()\n",
        "\n",
        "  # shuffle the puzzle list\n",
        "  random.shuffle(puzzles)\n",
        "  num_puzzles = len(puzzles)\n",
        "  solved_puzzles = 0\n",
        "\n",
        "  # Iterate through the list and play each puzzle\n",
        "  for puzzle in puzzles:\n",
        "    time_limit = play_puzzle(puzzle, time_limit)\n",
        "    solved_puzzles += 1\n",
        "\n",
        "    # if the elapsed time exceeds the time limit, the game needs to stop\n",
        "    elapsed_time = time.time() - start_time\n",
        "    if elapsed_time > time_limit:\n",
        "      print(\"Time's up! You did not finish the Escape Room Game in time\")\n",
        "      return\n",
        "    else:\n",
        "      print(f\"You have {round(time_limit - elapsed_time)} seconds remaining\")\n",
        "\n",
        "  # Check if all puzzles have been solved\n",
        "  if solved_puzzles == num_puzzles:\n",
        "    print(f\"Congratulations! You completed game and you had {round(time_limit - elapsed_time)} seconds left\")"
      ],
      "metadata": {
        "id": "LmJpvJl55zAe"
      },
      "execution_count": 5,
      "outputs": []
    },
    {
      "cell_type": "code",
      "source": [
        "play_escape_room(300)"
      ],
      "metadata": {
        "colab": {
          "base_uri": "https://localhost:8080/"
        },
        "id": "zCXe4hmrS-bs",
        "outputId": "e12b8921-0ac0-4739-ee2b-fafe27d9963c"
      },
      "execution_count": 6,
      "outputs": [
        {
          "output_type": "stream",
          "name": "stdout",
          "text": [
            "Welcome to the Story-driven Virtual Escape Room!\n",
            "You are a detective trying to solve a mysterious disappearance.\n",
            "A wealthy businessman, Mr. White, has vanished from his mansion.\n",
            "Explore the mansion, discover hidden clues, and solve puzzles to unravel the mystery and find Mr. White.\n",
            "You have a limited time to complete all puzzles. Good luck!\n",
            "\n",
            "What has keys but can't open locks?\n",
            "Please share your solution: piano\n",
            "Correct!\n",
            "Story: You find a hidden key inside the piano that opens a secret door. \n",
            "\n",
            "You have 290 seconds remaining\n",
            "What comes next in the sequence? 3, 6, 12, 24, ...\n",
            "Please share your solution: 36\n",
            "Incorrect! Please try again\n",
            "What comes next in the sequence? 3, 6, 12, 24, ...\n",
            "Please share your solution: 48\n",
            "Correct!\n",
            "Story: Entering the correct number into a lock reveals a hidden chamber. \n",
            "\n",
            "You have 229 seconds remaining\n",
            "What can you hold in your left hand but not in your right?\n",
            "Please share your solution: time\n",
            "Incorrect! Please try again\n",
            "What can you hold in your left hand but not in your right?\n",
            "Please share your solution: not sure\n",
            "Incorrect! Please try again\n",
            "What can you hold in your left hand but not in your right?\n",
            "Please share your solution: ring\n",
            "Incorrect! Please try again\n",
            "What can you hold in your left hand but not in your right?\n",
            "Please share your solution: right hand\n",
            "Incorrect! Please try again\n",
            "What can you hold in your left hand but not in your right?\n",
            "Please share your solution: your right elbow\n",
            "Correct!\n",
            "Story: Discovering a hidden lever shaped like an elbow, you open a secret compartment. \n",
            "\n",
            "Time's up! You did not finish the Escape Room Game in time\n"
          ]
        }
      ]
    },
    {
      "cell_type": "code",
      "source": [],
      "metadata": {
        "id": "MjGlihUIQjBl"
      },
      "execution_count": null,
      "outputs": []
    }
  ]
}